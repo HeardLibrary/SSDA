{
 "cells": [
  {
   "cell_type": "code",
   "execution_count": 6,
   "metadata": {},
   "outputs": [
    {
     "name": "stdout",
     "output_type": "stream",
     "text": [
      "JPEG (6000, 4000) RGB\n"
     ]
    }
   ],
   "source": [
    "from PIL import Image\n",
    "\n",
    "im = Image.open(\"C:\\\\Users\\\\genkindn\\\\test.jpg\")\n",
    "print(im.format, im.size, im.mode)"
   ]
  },
  {
   "cell_type": "code",
   "execution_count": 19,
   "metadata": {},
   "outputs": [
    {
     "name": "stdout",
     "output_type": "stream",
     "text": [
      "C:\\Users\\genkindn\\Downloads\\JPEG\\JPEG\\001.JPG\n",
      "<PIL.JpegImagePlugin.JpegImageFile image mode=RGB size=6000x4000 at 0x16637D25A90>\n",
      "C:\\Users\\genkindn\\Downloads\\JPEG\\JPEG\\jesus.jpg\n",
      "<PIL.JpegImagePlugin.JpegImageFile image mode=RGB size=6000x4000 at 0x16637B757B8>\n"
     ]
    }
   ],
   "source": [
    "from PIL import Image\n",
    "import os\n",
    "\n",
    "for folder,sub,files in os.walk('C:\\\\Users\\\\genkindn\\\\Downloads\\\\JPEG\\\\JPEG'):\n",
    "    for file in files:\n",
    "        page = Image.open(folder + '\\\\' + file)\n",
    "        if page.format == 'JPEG':\n",
    "            print(folder + '\\\\' + file)\n",
    "            page.rotate(90)\n",
    "            print(page)\n",
    "            page.save(folder + '\\\\jesus.jpg')\n",
    "        page.close()"
   ]
  },
  {
   "cell_type": "code",
   "execution_count": 20,
   "metadata": {
    "collapsed": true
   },
   "outputs": [],
   "source": [
    "test = Image.open('C:\\\\Users\\\\genkindn\\\\Downloads\\\\JPEG\\\\JPEG\\\\53.JPG')"
   ]
  },
  {
   "cell_type": "code",
   "execution_count": 21,
   "metadata": {},
   "outputs": [
    {
     "name": "stdout",
     "output_type": "stream",
     "text": [
      "MPO (6000, 4000) RGB\n"
     ]
    }
   ],
   "source": [
    "print(test.format, test.size, test.mode)"
   ]
  },
  {
   "cell_type": "code",
   "execution_count": 25,
   "metadata": {},
   "outputs": [
    {
     "name": "stdout",
     "output_type": "stream",
     "text": [
      "(6000, 4000)\n"
     ]
    }
   ],
   "source": [
    "print(out.size[0:2])"
   ]
  },
  {
   "cell_type": "code",
   "execution_count": 8,
   "metadata": {},
   "outputs": [
    {
     "name": "stdout",
     "output_type": "stream",
     "text": [
      "6000\n"
     ]
    }
   ],
   "source": [
    "print(im.size[0])"
   ]
  },
  {
   "cell_type": "code",
   "execution_count": 6,
   "metadata": {},
   "outputs": [
    {
     "name": "stdout",
     "output_type": "stream",
     "text": [
      "540\n"
     ]
    }
   ],
   "source": [
    "print(im.size[1])"
   ]
  },
  {
   "cell_type": "code",
   "execution_count": 23,
   "metadata": {
    "collapsed": true
   },
   "outputs": [],
   "source": [
    "if test.size[0] > test.size[1]:\n",
    "    out = test.rotate(270)"
   ]
  },
  {
   "cell_type": "code",
   "execution_count": 24,
   "metadata": {
    "collapsed": true
   },
   "outputs": [],
   "source": [
    "out.save('C:\\\\Users\\\\genkindn\\\\Downloads\\\\JPEG\\\\JPEG\\\\rot_537.JPG')"
   ]
  },
  {
   "cell_type": "code",
   "execution_count": 10,
   "metadata": {
    "collapsed": true
   },
   "outputs": [],
   "source": [
    "rout = im.resize((864,864))"
   ]
  },
  {
   "cell_type": "code",
   "execution_count": 11,
   "metadata": {
    "collapsed": true
   },
   "outputs": [],
   "source": [
    "rout = rout.rotate(270)"
   ]
  },
  {
   "cell_type": "code",
   "execution_count": 20,
   "metadata": {
    "collapsed": true
   },
   "outputs": [],
   "source": [
    "rout = rout.resize((540,864))"
   ]
  },
  {
   "cell_type": "code",
   "execution_count": 21,
   "metadata": {
    "collapsed": true
   },
   "outputs": [],
   "source": [
    "rout.save(\"rotated.tif\")"
   ]
  },
  {
   "cell_type": "code",
   "execution_count": 16,
   "metadata": {},
   "outputs": [
    {
     "name": "stdout",
     "output_type": "stream",
     "text": [
      "(864, 864)\n"
     ]
    }
   ],
   "source": [
    "print(rout.size)"
   ]
  },
  {
   "cell_type": "code",
   "execution_count": 17,
   "metadata": {},
   "outputs": [
    {
     "name": "stdout",
     "output_type": "stream",
     "text": [
      "(864, 540)\n"
     ]
    }
   ],
   "source": [
    "print(im.size)"
   ]
  },
  {
   "cell_type": "code",
   "execution_count": 18,
   "metadata": {},
   "outputs": [
    {
     "data": {
      "image/png": "[encoded data removed]",
      "text/plain": [
       "<PIL.Image.Image image mode=RGB size=500x500 at 0x76C97537B8>"
      ]
     },
     "execution_count": 18,
     "metadata": {},
     "output_type": "execute_result"
    }
   ],
   "source": [
    "im.resize((500,500))"
   ]
  },
  {
   "cell_type": "code",
   "execution_count": 19,
   "metadata": {},
   "outputs": [
    {
     "name": "stdout",
     "output_type": "stream",
     "text": [
      "(864, 540)\n"
     ]
    }
   ],
   "source": [
    "print(im.size)"
   ]
  },
  {
   "cell_type": "code",
   "execution_count": 22,
   "metadata": {
    "collapsed": true
   },
   "outputs": [],
   "source": [
    "import os"
   ]
  },
  {
   "cell_type": "code",
   "execution_count": 31,
   "metadata": {},
   "outputs": [
    {
     "ename": "OSError",
     "evalue": "cannot identify image file 'Santa Rita\\\\Sta Rita 001.2\\\\Thumbs.db'",
     "output_type": "error",
     "traceback": [
      "\u001b[1;31m---------------------------------------------------------------------------\u001b[0m",
      "\u001b[1;31mOSError\u001b[0m                                   Traceback (most recent call last)",
      "\u001b[1;32m<ipython-input-31-26efceb2de33>\u001b[0m in \u001b[0;36m<module>\u001b[1;34m()\u001b[0m\n\u001b[0;32m      2\u001b[0m     \u001b[1;32mif\u001b[0m \u001b[0mfileList\u001b[0m\u001b[1;33m:\u001b[0m\u001b[1;33m\u001b[0m\u001b[0m\n\u001b[0;32m      3\u001b[0m         \u001b[1;32mfor\u001b[0m \u001b[0mfile\u001b[0m \u001b[1;32min\u001b[0m \u001b[0mfileList\u001b[0m\u001b[1;33m:\u001b[0m\u001b[1;33m\u001b[0m\u001b[0m\n\u001b[1;32m----> 4\u001b[1;33m             \u001b[0mtim\u001b[0m \u001b[1;33m=\u001b[0m \u001b[0mImage\u001b[0m\u001b[1;33m.\u001b[0m\u001b[0mopen\u001b[0m\u001b[1;33m(\u001b[0m\u001b[0mfolder\u001b[0m \u001b[1;33m+\u001b[0m \u001b[1;34m'\\\\'\u001b[0m \u001b[1;33m+\u001b[0m \u001b[0mfile\u001b[0m\u001b[1;33m)\u001b[0m\u001b[1;33m\u001b[0m\u001b[0m\n\u001b[0m\u001b[0;32m      5\u001b[0m             \u001b[0mwidth\u001b[0m \u001b[1;33m=\u001b[0m \u001b[0mtim\u001b[0m\u001b[1;33m.\u001b[0m\u001b[0msize\u001b[0m\u001b[1;33m[\u001b[0m\u001b[1;36m0\u001b[0m\u001b[1;33m]\u001b[0m\u001b[1;33m\u001b[0m\u001b[0m\n\u001b[0;32m      6\u001b[0m             \u001b[0mheight\u001b[0m \u001b[1;33m=\u001b[0m \u001b[0mtim\u001b[0m\u001b[1;33m.\u001b[0m\u001b[0msize\u001b[0m\u001b[1;33m[\u001b[0m\u001b[1;36m1\u001b[0m\u001b[1;33m]\u001b[0m\u001b[1;33m\u001b[0m\u001b[0m\n",
      "\u001b[1;32mC:\\ProgramData\\Anaconda3\\lib\\site-packages\\PIL\\Image.py\u001b[0m in \u001b[0;36mopen\u001b[1;34m(fp, mode)\u001b[0m\n\u001b[0;32m   2450\u001b[0m         \u001b[0mfp\u001b[0m\u001b[1;33m.\u001b[0m\u001b[0mclose\u001b[0m\u001b[1;33m(\u001b[0m\u001b[1;33m)\u001b[0m\u001b[1;33m\u001b[0m\u001b[0m\n\u001b[0;32m   2451\u001b[0m     raise IOError(\"cannot identify image file %r\"\n\u001b[1;32m-> 2452\u001b[1;33m                   % (filename if filename else fp))\n\u001b[0m\u001b[0;32m   2453\u001b[0m \u001b[1;33m\u001b[0m\u001b[0m\n\u001b[0;32m   2454\u001b[0m \u001b[1;31m#\u001b[0m\u001b[1;33m\u001b[0m\u001b[1;33m\u001b[0m\u001b[0m\n",
      "\u001b[1;31mOSError\u001b[0m: cannot identify image file 'Santa Rita\\\\Sta Rita 001.2\\\\Thumbs.db'"
     ]
    }
   ],
   "source": [
    "for folder,sub,fileList in os.walk('Santa Rita'):\n",
    "    if fileList:\n",
    "        for file in fileList:\n",
    "            tim = Image.open(folder + '\\\\' + file)\n",
    "            width = tim.size[0]\n",
    "            height = tim.size[1]\n",
    "            if width > height:\n",
    "                bigtim = tim.resize((width,width))\n",
    "                bigtim = bigtim.rotate(270)\n",
    "                bigtim = bigtim.resize((height,width))\n",
    "                bigtim.save(folder + '\\\\r' + file)"
   ]
  },
  {
   "cell_type": "code",
   "execution_count": 32,
   "metadata": {
    "collapsed": true
   },
   "outputs": [],
   "source": [
    "os.chdir('\\\\\\\\libshare.library.vanderbilt.edu\\\\vulibrary\\\\Landers\\\\new_organization')"
   ]
  },
  {
   "cell_type": "code",
   "execution_count": 44,
   "metadata": {
    "collapsed": true
   },
   "outputs": [],
   "source": [
    "fileName = 'Courtney\\\\EAP255\\\\Chocó\\\\Quibdó\\\\Notarias\\\\Notaria_Primera_de_Quidbó\\\\EAP255_CHOCO_QUIBDO_NOTARIAS_NOTARIAPRIMERA_031'\n",
    "for folder,sub,fileList in os.walk(fileName):\n",
    "    if fileList:\n",
    "        for file in fileList:\n",
    "            if not ('.db') in file:\n",
    "                tim = Image.open(folder + '\\\\' + file)\n",
    "                width = tim.size[0]\n",
    "                height = tim.size[1]\n",
    "                if width > height:\n",
    "                    bigtim = tim.resize((width,width))\n",
    "                    bigtim = bigtim.rotate(270)\n",
    "                    bigtim = bigtim.resize((height,width))\n",
    "                    bigtim.save(folder + '\\\\' + file)"
   ]
  },
  {
   "cell_type": "code",
   "execution_count": 42,
   "metadata": {},
   "outputs": [
    {
     "name": "stdout",
     "output_type": "stream",
     "text": [
      "Use this for directories containing only upside down portrait-oriented images.\n"
     ]
    }
   ],
   "source": [
    "#for folder,sub,fileList in os.walk('directory containing only upside down portrait-oriented images'):\n",
    "   # if fileList:\n",
    "        #for file in fileList:\n",
    "            #if not ('.db') in file:\n",
    "                #tim = Image.open(folder + '\\\\' + file)\n",
    "                #width = tim.size[0]\n",
    "                #height = tim.size[1]\n",
    "                #if height > width:\n",
    "                    #bigtim = tim.resize((height,height))\n",
    "                    #bigtim = bigtim.rotate(270)\n",
    "                    #bigtim = bigtim.resize((height,width))\n",
    "                    #bigtim.save(folder + '\\\\' + file)\n",
    "print(\"Use this for directories containing only upside down portrait-oriented images.\")"
   ]
  },
  {
   "cell_type": "code",
   "execution_count": 36,
   "metadata": {},
   "outputs": [
    {
     "name": "stdout",
     "output_type": "stream",
     "text": [
      "Now working on Angela\\ESSS\\digitalizacao Niteroi\\Livros\\Guapimirim\\Guapimirim 005.1\n",
      "Now working on Angela\\ESSS\\digitalizacao Niteroi\\Livros\\Guapimirim\\Guapimirim 001.1\n",
      "Now working on Angela\\ESSS\\digitalizacao Niteroi\\Livros\\Guapimirim\\Guapimirim 006.1\n",
      "Now working on Angela\\ESSS\\digitalizacao Niteroi\\Livros\\Guapimirim\\Guapimirim 002.1\n",
      "Now working on Angela\\ESSS\\digitalizacao Niteroi\\Livros\\Guapimirim\\Guapimirim 004.1\n"
     ]
    }
   ],
   "source": [
    "#rotate all sideways images in directory 90 degrees to the right (clockwise)\n",
    "import os\n",
    "from PIL import Image\n",
    "os.chdir('\\\\\\\\libshare.library.vanderbilt.edu\\\\vulibrary\\\\Landers\\\\new_organization')\n",
    "direct = 'Angela\\\\ESSS\\\\digitalizacao Niteroi\\\\Livros\\\\Guapimirim'\n",
    "activeFolder = 'Nope!'\n",
    "imagesRotated = 0\n",
    "totalImagesRotated = 0\n",
    "log = open(\"Rotation Logs\\\\Guapimirim.txt\",\"w\")\n",
    "for folder,subList,fileList in os.walk(direct):    \n",
    "    if fileList:        \n",
    "        for file in fileList:\n",
    "            if folder != activeFolder:\n",
    "                if activeFolder != 'Nope!':\n",
    "                    log.write(str(imagesRotated) + \" images rotated in \" + activeFolder + '\\n')\n",
    "                log.write('Now working on ' + folder + '\\n')\n",
    "                print('Now working on ' + folder)\n",
    "                totalImagesRotated += imagesRotated\n",
    "                imagesRotated = 0\n",
    "            activeFolder = folder\n",
    "            if ('.tif' in file) or ('.JPG' in file) or ('.jpg' in file):                \n",
    "                tim = Image.open(folder + '\\\\' + file)\n",
    "                width = tim.size[0]\n",
    "                height = tim.size[1]\n",
    "                if width > height:\n",
    "                    bigtim = tim.resize((width,width))\n",
    "                    bigtim = bigtim.rotate(270)\n",
    "                    bigtim = bigtim.resize((height,width))\n",
    "                    bigtim.save(folder + '\\\\' + file)\n",
    "                    imagesRotated += 1                \n",
    "tim.close()\n",
    "log.write(str(imagesRotated) + \" images rotated in \" + activeFolder + '\\n')\n",
    "totalImagesRotated += imagesRotated                    \n",
    "log.write(\"Mission accomplished. Total images rotated: \" + str(totalImagesRotated))\n",
    "log.close()"
   ]
  },
  {
   "cell_type": "code",
   "execution_count": 12,
   "metadata": {},
   "outputs": [
    {
     "name": "stdout",
     "output_type": "stream",
     "text": [
      "Now working on NOTARIAPRIMERA_085\n",
      "Images 0195 through 0299\n",
      " rotated.\n",
      "Now working on NOTARIAPRIMERA_091\n",
      "Images 0039 through 0137\n",
      " rotated.\n",
      "Now working on NOTARIAPRIMERA_096\n",
      "Images 0058 through 0061\n",
      " rotated.\n",
      "Now working on NOTARIAPRIMERA_101\n",
      "Images 0003 through 0006\n",
      " rotated.\n",
      "IMG_0014 rotated.\n",
      "Now working on NOTARIAPRIMERA_102\n",
      "Images 0159 through 0160\n",
      " rotated.\n",
      "Images 0263 through 0267\n",
      " rotated.\n",
      "Now working on NOTARIAPRIMERA_110\n",
      "Images 0033 through 0678\n",
      " rotated.\n",
      "Now working on NOTARIAPRIMERA_125\n",
      "Images 0001 through 0357\n",
      " rotated.\n",
      "Now working on NOTARIAPRIMERA_126\n",
      "Images 0019 through 0369\n",
      " rotated.\n",
      "TIF_0371 rotated.\n",
      "Images 0373 through 0607\n",
      " rotated.\n",
      "Images 0656 through 0754\n",
      " rotated.\n",
      "Now working on NOTARIAPRIMERA_128\n",
      "Images 0001 through 0169\n",
      " rotated.\n",
      "Now working on NOTARIAPRIMERA_130\n",
      "TIF_0033 rotated.\n",
      "Now working on NOTARIAPRIMERA_133\n",
      "Images 0001 through 0671\n",
      " rotated.\n",
      "Now working on NOTARIAPRIMERA_138\n",
      "Images 0002 through 0608\n",
      " rotated.\n",
      "Now working on NOTARIAPRIMERA_139\n",
      "IMG_0001 rotated.\n",
      "Images 0494 through 0630 rotated.\n"
     ]
    }
   ],
   "source": [
    "import os\n",
    "from PIL import Image\n",
    "os.chdir('C:\\\\Users\\\\genkindn')\n",
    "udd = 'Upside Down Lists\\\\broke.txt'\n",
    "udr = open(udd,'r')\n",
    "os.chdir('\\\\\\\\libshare.library.vanderbilt.edu\\\\vulibrary\\\\Landers\\\\new_organization\\\\Courtney\\\\EAP255\\\\Chocó\\\\Quibdó\\\\Notarias\\\\Notaria_Primera_de_Quidbó')\n",
    "for line in udr:\n",
    "    if 'EAP255' in line:\n",
    "        if len(line) > 47:\n",
    "            activeVol = line[:47]\n",
    "        else:\n",
    "            activeVol = line\n",
    "        print(\"Now working on \" + activeVol[29:])\n",
    "    elif '-' in line:\n",
    "        prefix = line[0:3]\n",
    "        startIm = line[4:8]\n",
    "        endIm = line[13:]\n",
    "        curr = int(startIm)\n",
    "        end = int(endIm)\n",
    "        while curr <= end:\n",
    "            if curr < 10:\n",
    "                fileNum = '000' + str(curr)\n",
    "            elif curr < 100:\n",
    "                fileNum = '00' + str(curr)\n",
    "            elif curr < 1000:\n",
    "                fileNum = '0' + str(curr)\n",
    "            else:\n",
    "                fileNum = str(curr)\n",
    "            fileName = prefix + '_' + fileNum\n",
    "            if os.path.isfile(activeVol + '\\\\' + fileName + '.tif'):\n",
    "                udImage = Image.open(activeVol + '\\\\' + fileName + '.tif')\n",
    "            else:\n",
    "                udImage = Image.open(activeVol + '\\\\' + fileName + '.tiff')\n",
    "            udImage = udImage.rotate(180)\n",
    "            if os.path.isfile(activeVol + '\\\\' + fileName + '.tif'):\n",
    "                udImage.save(activeVol + '\\\\' + fileName + '.tif')\n",
    "            else:\n",
    "                udImage.save(activeVol + '\\\\' + fileName + '.tiff')\n",
    "            curr += 1\n",
    "        print(\"Images \" + startIm + \" through \" + endIm + \" rotated.\")\n",
    "    else:\n",
    "        if len(line) > 8:\n",
    "            line = line[:8]\n",
    "        if os.path.isfile(activeVol + '\\\\' + line + '.tif'):\n",
    "            udImage = Image.open(activeVol + '\\\\' + line + '.tif')\n",
    "        else:\n",
    "            udImage = Image.open(activeVol + '\\\\' + line + '.tiff')\n",
    "        udImage = udImage.rotate(180)\n",
    "        if os.path.isfile(activeVol + '\\\\' + line + '.tif'):\n",
    "            udImage.save(activeVol + '\\\\' + line + '.tif')\n",
    "        else:\n",
    "            udImage.save(activeVol + '\\\\' + line + '.tiff')\n",
    "        print(line + \" rotated.\")\n",
    "udr.close()        "
   ]
  },
  {
   "cell_type": "code",
   "execution_count": 9,
   "metadata": {
    "collapsed": true
   },
   "outputs": [],
   "source": [
    "udr.close()"
   ]
  },
  {
   "cell_type": "code",
   "execution_count": 11,
   "metadata": {},
   "outputs": [
    {
     "name": "stdout",
     "output_type": "stream",
     "text": [
      "Now working on Angela\\ESSS\\digitalizacao Niteroi\\Livros\\Saquarema\\Saquarema 002.1\n"
     ]
    }
   ],
   "source": [
    "#flip all images in directory (update directory and log file name before running)\n",
    "import os\n",
    "from PIL import Image\n",
    "os.chdir('\\\\\\\\libshare.library.vanderbilt.edu\\\\vulibrary\\\\Landers\\\\new_organization')\n",
    "direct = 'Angela\\\\ESSS\\\\digitalizacao Niteroi\\\\Livros\\\\Saquarema\\\\Saquarema 002.1'\n",
    "activeFolder = 'Nope!'\n",
    "imagesRotated = 0\n",
    "totalImagesRotated = 0\n",
    "log = open(\"Rotation Logs\\\\Saquarema 002_1.txt\",\"w\")\n",
    "for folder,subList,fileList in os.walk(direct):    \n",
    "    if fileList:        \n",
    "        for file in fileList:\n",
    "            if folder != activeFolder:\n",
    "                if activeFolder != 'Nope!':\n",
    "                    log.write(str(imagesRotated) + \" images rotated in \" + activeFolder + '\\n')\n",
    "                log.write('Now working on ' + folder + '\\n')\n",
    "                print('Now working on ' + folder)\n",
    "                totalImagesRotated += imagesRotated\n",
    "                imagesRotated = 0\n",
    "            activeFolder = folder\n",
    "            if ('.tif' in file) or ('.JPG' in file) or ('.jpg' in file):                \n",
    "                tim = Image.open(folder + '\\\\' + file)                                \n",
    "                bigtim = tim\n",
    "                bigtim = bigtim.rotate(180)                    \n",
    "                bigtim.save(folder + '\\\\' + file)\n",
    "                imagesRotated += 1                \n",
    "tim.close()\n",
    "log.write(str(imagesRotated) + \" images rotated in \" + activeFolder + '\\n')\n",
    "totalImagesRotated += imagesRotated                    \n",
    "log.write(\"Mission accomplished. Total images rotated: \" + str(totalImagesRotated))\n",
    "log.close()"
   ]
  },
  {
   "cell_type": "code",
   "execution_count": 5,
   "metadata": {},
   "outputs": [
    {
     "name": "stdout",
     "output_type": "stream",
     "text": [
      "Now working in Maricá\n",
      "Now working on Maricá 001.1\n",
      "Images 001 through 035 rotated.\n",
      "Now working on Maricá 002.1\n",
      "Images 001 through 154 rotated.\n",
      "Now working on Maricá 003.1\n",
      "Images 001 through 067 rotated.\n",
      "Now working on Maricá 004.1\n",
      "Images 001 through 041 rotated.\n",
      "Now working on Maricá 007.1\n",
      "Images 001 through 337 rotated.\n",
      "Now working on Maricá 008.1\n",
      "Images 001 through 321 rotated.\n",
      "Now working on Maricá 009.1\n",
      "Images 001 through 010 rotated.\n",
      "Now working on Maricá 010.1\n",
      "Images 001 through 540 rotated.\n",
      "Now working on Maricá 011.1\n",
      "Images 001 through 019 rotated.\n",
      "Now working on Maricá 012.1\n",
      "Images 001 through 720 rotated.\n",
      "Now working in \n",
      "Now working in \n",
      "Now working in \n",
      "Now working in \n"
     ]
    }
   ],
   "source": [
    "#Brazil NEH image rotation\n",
    "import os\n",
    "from PIL import Image\n",
    "os.chdir('C:\\\\Users\\\\genkindn')\n",
    "udd = 'Upside Down Lists\\\\NEH Brazil.txt'\n",
    "udr = open(udd,'r')\n",
    "absDir = '\\\\\\\\libshare.library.vanderbilt.edu\\\\vulibrary\\\\Landers\\\\new_organization\\\\Angela\\\\ESSS\\\\digitalizacao Niteroi\\\\Livros'\n",
    "os.chdir(absDir)\n",
    "for line in udr:\n",
    "    if '.1' in line:\n",
    "        activeVol = line[:len(line) - 1]\n",
    "        print(\"Now working on \" + activeVol)\n",
    "    elif ('-' in line) and ('JPG' in line):        \n",
    "        firstPer = line.find('.')\n",
    "        startIm = line[:firstPer]\n",
    "        endIm = line[line.find('-') + 1:line.find('.', firstPer + 1)]\n",
    "        curr = int(startIm)\n",
    "        end = int(endIm)\n",
    "        while curr <= end:\n",
    "            if curr < 10:\n",
    "                fileNum = '00' + str(curr)\n",
    "            elif curr < 100:\n",
    "                fileNum = '0' + str(curr)\n",
    "            else:\n",
    "                fileNum = str(curr)            \n",
    "            imagePath = activeFreq + '\\\\' + activeVol + '\\\\' + fileNum\n",
    "            if os.path.isfile(imagePath + '.JPG'):\n",
    "                udImage = Image.open(absDir + '\\\\' + imagePath + '.JPG')\n",
    "            else:\n",
    "                print(imagePath + '.JPG' + ' does not exist.')\n",
    "            udImage = udImage.rotate(180)\n",
    "            if os.path.isfile(imagePath + '.JPG'):\n",
    "                udImage.save(absDir + '\\\\' + imagePath + '.JPG')\n",
    "            else:\n",
    "                print('For real.')\n",
    "            curr += 1\n",
    "        print(\"Images \" + startIm + \" through \" + endIm + \" rotated.\")\n",
    "    elif 'JPG' in line:\n",
    "        print('I do not know how to rotate a single image.')\n",
    "    else:\n",
    "        activeFreq = line[:len(line) - 1]\n",
    "        print(\"Now working in \" + activeFreq)\n",
    "udr.close()       "
   ]
  },
  {
   "cell_type": "code",
   "execution_count": 5,
   "metadata": {},
   "outputs": [
    {
     "name": "stdout",
     "output_type": "stream",
     "text": [
      "1\n"
     ]
    }
   ],
   "source": [
    "#rotate single image 90 degrees to the right\n",
    "absDir = '\\\\\\\\libshare.library.vanderbilt.edu\\\\vulibrary\\\\Landers\\\\new_organization\\\\ESSS CUBA\\\\ESSS Cuba 2004-05\\\\San Carlos de Matanzas\\\\Iglesia de Termino\\\\Libro 26, #2, 1869-1876\\\\1030926.JPG'\n",
    "imagesRotated = 0\n",
    "tim = Image.open(absDir)\n",
    "width = tim.size[0]\n",
    "height = tim.size[1]\n",
    "if width > height:\n",
    "    bigtim = tim.resize((width,width))\n",
    "    bigtim = bigtim.rotate(270)\n",
    "    bigtim = bigtim.resize((height,width))\n",
    "    bigtim.save(absDir)\n",
    "    imagesRotated += 1\n",
    "print(imagesRotated)"
   ]
  },
  {
   "cell_type": "code",
   "execution_count": 13,
   "metadata": {},
   "outputs": [
    {
     "name": "stdout",
     "output_type": "stream",
     "text": [
      "1\n"
     ]
    }
   ],
   "source": [
    "#flip single image\n",
    "absDir = '\\\\\\\\libshare.library.vanderbilt.edu\\\\vulibrary\\\\Landers\\\\new_organization\\\\Angela\\\\ESSS\\\\digitalizacao Niteroi\\\\Livros\\\\Saquarema\\\\Saquarema 011.1\\\\DSC00796.JPG'\n",
    "imagesRotated = 0\n",
    "tim = Image.open(absDir)    \n",
    "tim = tim.rotate(180)\n",
    "tim.save(absDir)\n",
    "imagesRotated += 1\n",
    "print(imagesRotated)"
   ]
  },
  {
   "cell_type": "code",
   "execution_count": 1,
   "metadata": {},
   "outputs": [
    {
     "name": "stdout",
     "output_type": "stream",
     "text": [
      "Enter file name (no extension): Guanabacoa_Dif\n",
      "Now working on \\\\libshare.library.vanderbilt.edu\\vulibrary\\Landers\\new_organization\\Cuba_Colombia\\Guanabacoa Dif\\Libro de Difuntos Pardos y Morenos 8P - Nov.1839-Sept.1852\n",
      "Images 1341 through 1341 rotated right.\n",
      "1 total images rotated.\n",
      "Now working on \\\\libshare.library.vanderbilt.edu\\vulibrary\\Landers\\new_organization\\Cuba_Colombia\\Guanabacoa Dif\\Libro de Difuntos Pardos y Morenos 9P - Sept. 1852-Nov.1858\n",
      "Images 1344 through 1345 rotated right.\n",
      "2 total images rotated.\n",
      "Images 1619 through 1619 rotated right.\n",
      "1 total images rotated.\n",
      "Now working on \\\\libshare.library.vanderbilt.edu\\vulibrary\\Landers\\new_organization\\Cuba_Colombia\\Guanabacoa Dif\\Libro de Difuntos Pardos y Morenos 10P - Nov. 1858-Oct.1862\n",
      "Images 1621 through 1622 rotated right.\n",
      "2 total images rotated.\n",
      "Images 1650 through 1653 rotated right.\n",
      "4 total images rotated.\n",
      "Images 1693 through 1696 rotated right.\n",
      "4 total images rotated.\n",
      "Now working on \\\\libshare.library.vanderbilt.edu\\vulibrary\\Landers\\new_organization\\Cuba_Colombia\\Guanabacoa Dif\\Libro de Difuntos Pardos y Morenos 11P - Oct.1862-Feb.1868\n",
      "Images 1836 through 1842 rotated right.\n",
      "6 total images rotated.\n",
      "Images 1847 through 1848 rotated right.\n",
      "2 total images rotated.\n",
      "Images 1862 through 1865 rotated right.\n",
      "4 total images rotated.\n",
      "Images 1883 through 1888 rotated right.\n",
      "6 total images rotated.\n",
      "Images 1916 through 1919 rotated right.\n",
      "4 total images rotated.\n",
      "Now working on \\\\libshare.library.vanderbilt.edu\\vulibrary\\Landers\\new_organization\\Cuba_Colombia\\Guanabacoa Dif\\Libro de Difuntos Pardos y Morenos 12P - Feb.1868-Nov.1872\n",
      "Images 2134 through 2136 rotated right.\n",
      "3 total images rotated.\n",
      "Images 2167 through 2167 rotated right.\n",
      "1 total images rotated.\n",
      "Images 2167 through 2167 flipped.\n",
      "1 total images rotated.\n",
      "Images 2168 through 2168 rotated right.\n",
      "1 total images rotated.\n",
      "Images 2223 through 2224 rotated right.\n",
      "2 total images rotated.\n",
      "Images 2255 through 2258 rotated right.\n",
      "4 total images rotated.\n",
      "Images 2296 through 2296 rotated right.\n",
      "1 total images rotated.\n",
      "Rotation completed.\n"
     ]
    }
   ],
   "source": [
    "#update listFile before executing, image file names should be unpadded integers with no prefix and should include extension\n",
    "import os\n",
    "from PIL import Image\n",
    "os.chdir('C:\\\\Users\\\\genkindn')\n",
    "listFile = input('Enter file name (no extension): ')\n",
    "rotList = 'Rotation Lists\\\\' + listFile + '.txt'\n",
    "rotText = open(rotList,'r')\n",
    "for line in rotText:\n",
    "    if line.find('\\\\') != -1:\n",
    "        actDir = line[:len(line) - 1] \n",
    "        os.chdir(actDir)\n",
    "        print(\"Now working on \" + actDir) \n",
    "    elif (line.find('-') != -1) and (line.find('\\\\') == -1):\n",
    "        firPer = line.find('.')\n",
    "        stIm = line[line.find(':') + 1:firPer]\n",
    "        finIm = line[line.find('-') + 1:line.find('.',firPer + 1)]\n",
    "        ext = line[firPer:line.find('-')]\n",
    "        rotCase = line[0:1]\n",
    "        currIm = int(stIm)\n",
    "        imRot = 0\n",
    "        while currIm <= int(finIm):            \n",
    "            imDir = actDir + '\\\\' + str(currIm) + ext\n",
    "            imExists = os.path.isfile(imDir)\n",
    "            if imExists:\n",
    "                rotIm = Image.open(imDir)\n",
    "            if (rotCase == 'r') and imExists:\n",
    "                width = rotIm.size[0]\n",
    "                height = rotIm.size[1]\n",
    "                rotIm = rotIm.resize((width,width))\n",
    "                rotIm = rotIm.rotate(270)\n",
    "                rotIm = rotIm.resize((height,width))\n",
    "                rotIm.save(imDir)\n",
    "                rotIm.close()\n",
    "                imRot += 1\n",
    "            elif (rotCase =='f') and imExists:                    \n",
    "                rotIm = rotIm.rotate(180)\n",
    "                rotIm.save(imDir)\n",
    "                rotIm.close()\n",
    "                imRot += 1\n",
    "            elif (rotCase == 'l') and imExists:\n",
    "                width = rotIm.size[0]\n",
    "                height = rotIm.size[1]\n",
    "                rotIm = rotIm.resize((width,width))\n",
    "                rotIm = rotIm.rotate(90)\n",
    "                rotIm = rotIm.resize((height,width))\n",
    "                rotIm.save(imDir)\n",
    "                rotIm.close()\n",
    "                imRot += 1\n",
    "            elif imExists:\n",
    "                print('Invalid rotCase at: ' + stIm)\n",
    "                rotIm.close()\n",
    "            currIm += 1\n",
    "        if rotCase == 'r':\n",
    "            print('Images ' + stIm + ' through ' + finIm + ' rotated right.')\n",
    "        elif rotCase == 'f':\n",
    "            print('Images ' + stIm + ' through ' + finIm + ' flipped.')\n",
    "        elif rotCase == 'l':\n",
    "            print('Images ' + stIm + ' through ' + finIm + ' rotated left.')\n",
    "        print(str(imRot) + ' total images rotated.')\n",
    "rotText.close()\n",
    "print('Rotation completed.')"
   ]
  },
  {
   "cell_type": "code",
   "execution_count": 8,
   "metadata": {},
   "outputs": [
    {
     "name": "stdout",
     "output_type": "stream",
     "text": [
      "45\n"
     ]
    }
   ],
   "source": [
    "print(int('0045'))"
   ]
  },
  {
   "cell_type": "code",
   "execution_count": 17,
   "metadata": {
    "collapsed": true
   },
   "outputs": [],
   "source": [
    "writeDoc.close()"
   ]
  },
  {
   "cell_type": "code",
   "execution_count": 22,
   "metadata": {},
   "outputs": [
    {
     "name": "stdout",
     "output_type": "stream",
     "text": [
      "33\n",
      "33\n"
     ]
    }
   ],
   "source": [
    "len_test = open('Directory_Test.txt','r')\n",
    "for line in len_test:\n",
    "    print(len(line))"
   ]
  },
  {
   "cell_type": "code",
   "execution_count": 1,
   "metadata": {},
   "outputs": [
    {
     "name": "stdout",
     "output_type": "stream",
     "text": [
      "False\n"
     ]
    }
   ],
   "source": [
    "word = 'four'\n",
    "print(word.isdigit())"
   ]
  },
  {
   "cell_type": "code",
   "execution_count": 9,
   "metadata": {},
   "outputs": [
    {
     "name": "stdout",
     "output_type": "stream",
     "text": [
      "Enter a name for the instruction file: Live_Fire\n",
      "Enter volume directory or 'END' to finish: \\\\libshare.library.vanderbilt.edu\\vulibrary\\Landers\\new_organization\\Cuba_Colombia\\Guanabacoa Dif\\Libro de Difuntos Pardos y Morenos 2P - Agt.1762-Dic.1796\n",
      "Enter the rotation case (r, l, or f) or 'DONE' to change volumes: r\n",
      "Enter the full file name of the first image (extension is case sensitive): 9781.JPG\n",
      "Enter the number of the last image: 9783\n",
      "Enter the rotation case (r, l, or f) or 'DONE' to change volumes: DONE\n",
      "Enter volume directory or 'END' to finish: END\n"
     ]
    }
   ],
   "source": [
    "import os\n",
    "docName = input('Enter a name for the instruction file: ')\n",
    "os.chdir('C:\\\\Users\\\\genkindn\\\\Rotation Lists')\n",
    "writeDoc = open(docName + '.txt','w')\n",
    "needVol = True\n",
    "endWrite = False\n",
    "while not endWrite:\n",
    "    if needVol:\n",
    "        nextInst = input('Enter volume directory or \\'END\\' to finish: ')\n",
    "        if 'END' in nextInst:\n",
    "            writeDoc.close()\n",
    "            endWrite = True\n",
    "        elif os.path.isdir(nextInst):\n",
    "            writeDoc.write(nextInst + '\\n')\n",
    "            activeVol = nextInst\n",
    "            needVol = False\n",
    "            needCase = True\n",
    "        else:\n",
    "            print('Invalid input.')\n",
    "    elif needCase:\n",
    "        nextInst = input('Enter the rotation case (r, l, or f) or \\'DONE\\' to change volumes: ')\n",
    "        if nextInst == 'DONE':\n",
    "            needCase = False\n",
    "            needVol = True\n",
    "        elif (nextInst == 'r') or (nextInst == 'l') or (nextInst == 'f'):\n",
    "            writeDoc.write(nextInst + ':')\n",
    "            needCase = False\n",
    "            needStart = True\n",
    "        else:\n",
    "            print('Invalid input.')\n",
    "    elif needStart:\n",
    "        nextInst = input('Enter the full file name of the first image (extension is case sensitive): ')        \n",
    "        if os.path.isfile(activeVol + '\\\\' + nextInst):\n",
    "            writeDoc.write(nextInst + '-')\n",
    "            ext = nextInst[nextInst.find('.') + 1:]\n",
    "            needStart = False\n",
    "            needFinish = True\n",
    "        else:\n",
    "            print('Invalid input.')    \n",
    "    elif needFinish:\n",
    "        nextInst = input('Enter the number of the last image: ')\n",
    "        if os.path.isfile(activeVol + '\\\\' + nextInst + '.' + ext):\n",
    "            writeDoc.write(nextInst + '.' + ext + '\\n')\n",
    "            needFinish = False\n",
    "            needCase = True        \n",
    "        else:\n",
    "            print('Invalid input: ' + activeVol + '\\\\' + nextInst + '.' + ext.upper())\n",
    "    else:\n",
    "        print('You broke it.')"
   ]
  },
  {
   "cell_type": "code",
   "execution_count": 3,
   "metadata": {},
   "outputs": [
    {
     "name": "stdout",
     "output_type": "stream",
     "text": [
      "Enter a name for the instruction file: \\\\libshare.library.vanderbilt.edu\\vulibrary\\Landers\\new_organization\\ESSS CUBA\\ESSS Cuba 2004-05\\Arzobispado de La Habana\\Arzobispado, Archicofradias\\Arzobispado, Archicofradias 05\\Archicofradias 5, legajo 5, exp 10\n",
      "Enter volume directory or 'end' to finish: JPG\n",
      "Invalid input.\n",
      "Enter volume directory or 'end' to finish: end\n",
      "Rotation completed.\n"
     ]
    }
   ],
   "source": [
    "###### PREVIOUS VERSION all-in-one image rotator (be careful, images will be rotated immediately)\n",
    "import os\n",
    "docName = input('Enter a name for the instruction file: ')\n",
    "os.chdir('C:\\\\Users\\\\genkindn\\\\Rotation Lists')\n",
    "writeDoc = open(docName + '.txt','w')\n",
    "needVol = True\n",
    "endWrite = False\n",
    "while not endWrite:\n",
    "    if needVol:\n",
    "        nextInst = input('Enter volume directory or \\'end\\' to finish: ')\n",
    "        if 'end' in nextInst:\n",
    "            writeDoc.close()\n",
    "            endWrite = True\n",
    "        elif os.path.isdir(nextInst):\n",
    "            writeDoc.write(nextInst + '\\n')\n",
    "            activeVol = nextInst\n",
    "            needVol = False\n",
    "            needExt = True\n",
    "        else:\n",
    "            print('Invalid input.')\n",
    "    elif needExt:\n",
    "        nextInst = input('Enter file extensions (case sensitive): ')\n",
    "        if ('jpg' in nextInst) or ('JPG' in nextInst) or ('tif' in nextInst):\n",
    "            ext = nextInst\n",
    "            needExt = False\n",
    "            needCase = True\n",
    "        else:\n",
    "            print('Invalid input.')\n",
    "    elif needCase:\n",
    "        nextInst = input('Enter the rotation case (r, l, or f) or \\'done\\' to change volumes: ')\n",
    "        if 'done' in nextInst:\n",
    "            needCase = False\n",
    "            needVol = True\n",
    "        elif (nextInst == 'r') or (nextInst == 'l') or (nextInst == 'f'):\n",
    "            writeDoc.write(nextInst + ':')\n",
    "            needCase = False\n",
    "            needStart = True\n",
    "        else:\n",
    "            print('Invalid input.')\n",
    "    elif needStart:\n",
    "        nextInst = input('Enter the number of the first image: ')        \n",
    "        if os.path.isfile(activeVol + '\\\\' + nextInst + '.' + ext):\n",
    "            writeDoc.write(nextInst + '.' + ext + '-')\n",
    "            start = nextInst\n",
    "            needStart = False\n",
    "            needFinish = True\n",
    "        else:\n",
    "            print('Invalid input.')    \n",
    "    elif needFinish:\n",
    "        nextInst = input('Enter the number of the last image or either the next rotation or \\'null\\' if only one: ')\n",
    "        if os.path.isfile(activeVol + '\\\\' + nextInst + '.' + ext):\n",
    "            writeDoc.write(nextInst + '.' + ext + '\\n')\n",
    "            needFinish = False\n",
    "            needCase = True\n",
    "        elif 'null' in nextInst:\n",
    "            writeDoc.write(start + '.' + ext + '\\n')\n",
    "            needFinish = False\n",
    "            needCase = True\n",
    "        elif (nextInst == 'r') or (nextInst == 'l') or (nextInst == 'f'):\n",
    "            writeDoc.write(start + '.' + ext + '\\n')\n",
    "            needFinish = False\n",
    "            writeDoc.write(nextInst + ':')\n",
    "            needStart = True\n",
    "        else:\n",
    "            print('Invalid input: ' + activeVol + '\\\\' + nextInst + '.' + ext.upper())\n",
    "    else:\n",
    "        print('You broke it.')\n",
    "from PIL import Image\n",
    "rotText = open(docName + '.txt','r')\n",
    "for line in rotText:\n",
    "    if line.find('\\\\') != -1:\n",
    "        actDir = line[:len(line) - 1] \n",
    "        os.chdir(actDir)\n",
    "        print(\"Now working on \" + actDir) \n",
    "    elif (line.find('-') != -1) and (line.find('\\\\') == -1):\n",
    "        firPer = line.find('.')\n",
    "        stIm = line[line.find(':') + 1:firPer]\n",
    "        finIm = line[line.find('-') + 1:line.find('.',firPer + 1)]\n",
    "        ext = line[firPer:line.find('-')]\n",
    "        rotCase = line[0:1]\n",
    "        currIm = int(stIm)\n",
    "        imRot = 0\n",
    "        while currIm <= int(finIm):            \n",
    "            imDir = actDir + '\\\\' + str(currIm) + ext\n",
    "            imExists = os.path.isfile(imDir)\n",
    "            if imExists:\n",
    "                rotIm = Image.open(imDir)\n",
    "            if (rotCase == 'r') and imExists:\n",
    "                width = rotIm.size[0]\n",
    "                height = rotIm.size[1]\n",
    "                if width > height:\n",
    "                    rotIm = rotIm.resize((width,width))\n",
    "                elif height > width:\n",
    "                    rotIm = rotIm.resize((height,height))\n",
    "                rotIm = rotIm.rotate(270)\n",
    "                rotIm = rotIm.resize((height,width))\n",
    "                rotIm.save(imDir)\n",
    "                #print('Rotate right ' + imDir)\n",
    "                rotIm.close()\n",
    "                imRot += 1\n",
    "            elif (rotCase =='f') and imExists:                    \n",
    "                rotIm = rotIm.rotate(180)\n",
    "                rotIm.save(imDir)\n",
    "                #print('Flip ' + imDir)\n",
    "                rotIm.close()                \n",
    "                imRot += 1\n",
    "            elif (rotCase == 'l') and imExists:\n",
    "                width = rotIm.size[0]\n",
    "                height = rotIm.size[1]\n",
    "                if width > height:\n",
    "                    rotIm = rotIm.resize((width,width))\n",
    "                elif height > width:\n",
    "                    rotIm = rotIm.resize((height,height))\n",
    "                rotIm = rotIm.rotate(90)\n",
    "                rotIm = rotIm.resize((height,width))\n",
    "                rotIm.save(imDir)\n",
    "                #print('Rotate left ' + imDir)\n",
    "                rotIm.close()\n",
    "                imRot += 1\n",
    "            elif imExists:\n",
    "                print('Invalid rotCase at: ' + stIm)\n",
    "                rotIm.close()\n",
    "            currIm += 1\n",
    "        if rotCase == 'r':\n",
    "            print('Images ' + stIm + ' through ' + finIm + ' rotated right.')\n",
    "        elif rotCase == 'f':\n",
    "            print('Images ' + stIm + ' through ' + finIm + ' flipped.')\n",
    "        elif rotCase == 'l':\n",
    "            print('Images ' + stIm + ' through ' + finIm + ' rotated left.')\n",
    "        print(str(imRot) + ' total images rotated.')\n",
    "rotText.close()\n",
    "print('Rotation completed.')"
   ]
  },
  {
   "cell_type": "code",
   "execution_count": 13,
   "metadata": {},
   "outputs": [
    {
     "name": "stdout",
     "output_type": "stream",
     "text": [
      "first\n",
      "last\n"
     ]
    }
   ],
   "source": [
    "first,last = 'first.last'.split('.')\n",
    "print(first)\n",
    "print(last)"
   ]
  },
  {
   "cell_type": "code",
   "execution_count": 87,
   "metadata": {
    "collapsed": true
   },
   "outputs": [],
   "source": [
    "os.chdir('C:\\\\Users\\\\genkindn')"
   ]
  },
  {
   "cell_type": "code",
   "execution_count": 36,
   "metadata": {},
   "outputs": [
    {
     "name": "stdout",
     "output_type": "stream",
     "text": [
      "Enter directory of images: \\\\libshare.library.vanderbilt.edu\\vulibrary\\Landers\\new_organization\\Oscar\\Iglesia de Jaguey Grande\\Libro de Bautismos de Pardos y Morenos 1886-1893\n",
      "Enter the image file name or 'done': 3296.JPG\n",
      "JPEG (2736, 3648) RGB\n",
      "Enter the image file name or 'done': 3307.JPG\n",
      "JPEG (3648, 2736) RGB\n",
      "Enter the image file name or 'done': done\n"
     ]
    }
   ],
   "source": [
    "#image characteristic checker\n",
    "from PIL import Image\n",
    "import os\n",
    "\n",
    "image_directory = input('Enter directory of images: ')\n",
    "os.chdir(image_directory)\n",
    "\n",
    "done = False\n",
    "while not done:\n",
    "    image_file = input('Enter the image file name or \\'done\\': ')\n",
    "    if image_file != 'done':\n",
    "        image = Image.open(image_file)\n",
    "        print(image.format, image.size, image.mode)\n",
    "        image.close()\n",
    "    else:\n",
    "        done = True"
   ]
  },
  {
   "cell_type": "code",
   "execution_count": 62,
   "metadata": {},
   "outputs": [
    {
     "name": "stdout",
     "output_type": "stream",
     "text": [
      "Enter directory of images: \\\\libshare.library.vanderbilt.edu\\vulibrary\\Landers\\new_organization\\Oscar\\Iglesia San Pedro. Versalles. Matanzas\\Libro 1 Bautismos P y M Versalles\n",
      "Enter image file name: DSC_8336.JPG\n"
     ]
    }
   ],
   "source": [
    "image_directory = input('Enter directory of images: ')\n",
    "os.chdir(image_directory)\n",
    "image_file = input('Enter image file name: ')\n",
    "\n",
    "test_image = Image.open(image_file)\n",
    "width = test_image.size[0]\n",
    "height = test_image.size[1]\n",
    "#test_image = test_image.resize((height,height))\n",
    "test_image = test_image.rotate(0)\n",
    "#test_image = test_image.resize((height,width))\n",
    "test_image.save(image_file)\n",
    "test_image.close()"
   ]
  },
  {
   "cell_type": "code",
   "execution_count": 1,
   "metadata": {},
   "outputs": [
    {
     "name": "stdout",
     "output_type": "stream",
     "text": [
      "Enter directory of images: \\\\libshare.library.vanderbilt.edu\\vulibrary\\Landers\\new_organization\\Cuba_Colombia\\Archivo Historico Provincial de Matanzas\\Arquivo Mantanzas\\Esclavos\n",
      "Now working in \\\\libshare.library.vanderbilt.edu\\vulibrary\\Landers\\new_organization\\Cuba_Colombia\\Archivo Historico Provincial de Matanzas\\Arquivo Mantanzas\\Esclavos\n",
      "Stripping completed!\n"
     ]
    }
   ],
   "source": [
    "#exif stripper\n",
    "import os\n",
    "from PIL import Image, ImageFile\n",
    "ImageFile.LOAD_TRUNCATED_IMAGES = True\n",
    "\n",
    "image_directory = input('Enter directory of images: ')\n",
    "\n",
    "for folder,sub_directory,files in os.walk(image_directory):\n",
    "    print('Now working in ' + folder)\n",
    "    for file in files:\n",
    "        image_location = folder + '\\\\' + file       \n",
    "        name, extension = file.split('.')\n",
    "        if extension in ['jpg','JPG','tif']:\n",
    "            im = Image.open(image_location)#.load()\n",
    "            #print(im.format, im.size, im.mode)\n",
    "            stripped = im.rotate(0)\n",
    "            stripped.save(image_location)\n",
    "            im.close()\n",
    "            stripped.close()\n",
    "        else:\n",
    "            if ('Thumbs.db' in file) or ('DS_Store' in file) or ('bs.db' in file):\n",
    "                os.unlink(folder + '\\\\' + file)\n",
    "                print(folder + '\\\\' + file + ' deleted!')\n",
    "print('Stripping completed!')"
   ]
  },
  {
   "cell_type": "code",
   "execution_count": null,
   "metadata": {
    "collapsed": true
   },
   "outputs": [],
   "source": [
    "import imghdr\n",
    "\n",
    "image_directory = input('Enter directory of image: ')\n",
    "\n",
    "if (imghdr.what(image_directory) == 'jpeg'):\n",
    "    page = Image.open(image_location)\n",
    "    print(page.size)"
   ]
  },
  {
   "cell_type": "code",
   "execution_count": 7,
   "metadata": {
    "collapsed": true
   },
   "outputs": [],
   "source": [
    "os.chdir('\\\\\\\\libshare.library.vanderbilt.edu\\\\vulibrary\\\\Landers\\\\new_organization\\\\Oscar')"
   ]
  },
  {
   "cell_type": "code",
   "execution_count": 2,
   "metadata": {},
   "outputs": [
    {
     "name": "stdout",
     "output_type": "stream",
     "text": [
      "Enter directory of image: C:\\Users\\genkindn\\Downloads\\JPEG\\JPEG\\EAP1047_ACMN_CatNit_Livro4deBatismosEscravosD (1).JPG\n"
     ]
    }
   ],
   "source": [
    "image_directory = input('Enter directory of image: ')\n",
    "test = Image.open(image_directory)"
   ]
  },
  {
   "cell_type": "code",
   "execution_count": 2,
   "metadata": {},
   "outputs": [
    {
     "name": "stdout",
     "output_type": "stream",
     "text": [
      "Enter a name for the instruction file: stuff\n",
      "Enter volume directory or 'end' to finish: \\\\libshare.library.vanderbilt.edu\\vulibrary\\Landers\\new_organization\\Cuba_Colombia\\Archivo Historico Provincial de Matanzas\\Arquivo Mantanzas\\Esclavos\n",
      "Enter file extensions (case sensitive): JPG\n",
      "Enter the rotation case (r, l, or f) or 'done' to change volumes: l\n",
      "Enter the number of the first image: 1003\n",
      "Enter the number of the last image or either the next rotation or 'null' if only one: 1004\n",
      "Enter the rotation case (r, l, or f) or 'done' to change volumes: l\n",
      "Enter the number of the first image: 1020\n",
      "Enter the number of the last image or either the next rotation or 'null' if only one: l\n",
      "Enter the number of the first image: 1024\n",
      "Enter the number of the last image or either the next rotation or 'null' if only one: l\n",
      "Enter the number of the first image: 1028\n",
      "Enter the number of the last image or either the next rotation or 'null' if only one: l\n",
      "Enter the number of the first image: 1031\n",
      "Enter the number of the last image or either the next rotation or 'null' if only one: l\n",
      "Enter the number of the first image: 1034\n",
      "Enter the number of the last image or either the next rotation or 'null' if only one: l\n",
      "Enter the number of the first image: 1046\n",
      "Enter the number of the last image or either the next rotation or 'null' if only one: l\n",
      "Enter the number of the first image: 1053\n",
      "Enter the number of the last image or either the next rotation or 'null' if only one: l\n",
      "Enter the number of the first image: 1068\n",
      "Enter the number of the last image or either the next rotation or 'null' if only one: 1070\n",
      "Enter the rotation case (r, l, or f) or 'done' to change volumes: l\n",
      "Enter the number of the first image: 1073\n",
      "Enter the number of the last image or either the next rotation or 'null' if only one: l\n",
      "Enter the number of the first image: 1076\n",
      "Enter the number of the last image or either the next rotation or 'null' if only one: l\n",
      "Enter the number of the first image: 1085\n",
      "Enter the number of the last image or either the next rotation or 'null' if only one: 1086\n",
      "Enter the rotation case (r, l, or f) or 'done' to change volumes: l\n",
      "Enter the number of the first image: 1092\n",
      "Enter the number of the last image or either the next rotation or 'null' if only one: 1096\n",
      "Enter the rotation case (r, l, or f) or 'done' to change volumes: l\n",
      "Enter the number of the first image: 1099\n",
      "Enter the number of the last image or either the next rotation or 'null' if only one: l\n",
      "Enter the number of the first image: 1102\n",
      "Enter the number of the last image or either the next rotation or 'null' if only one: l\n",
      "Enter the number of the first image: 1111\n",
      "Enter the number of the last image or either the next rotation or 'null' if only one: l\n",
      "Enter the number of the first image: 1115\n",
      "Enter the number of the last image or either the next rotation or 'null' if only one: l\n",
      "Enter the number of the first image: 1119\n",
      "Enter the number of the last image or either the next rotation or 'null' if only one: l\n",
      "Enter the number of the first image: 1126\n",
      "Enter the number of the last image or either the next rotation or 'null' if only one: l\n",
      "Enter the number of the first image: 1141\n",
      "Enter the number of the last image or either the next rotation or 'null' if only one: l\n",
      "Enter the number of the first image: 1143\n",
      "Enter the number of the last image or either the next rotation or 'null' if only one: 1146\n",
      "Enter the rotation case (r, l, or f) or 'done' to change volumes: l\n",
      "Enter the number of the first image: 1150\n",
      "Enter the number of the last image or either the next rotation or 'null' if only one: l\n",
      "Enter the number of the first image: 1162\n",
      "Enter the number of the last image or either the next rotation or 'null' if only one: l\n",
      "Enter the number of the first image: 1169\n",
      "Enter the number of the last image or either the next rotation or 'null' if only one: l\n",
      "Enter the number of the first image: 1182\n",
      "Enter the number of the last image or either the next rotation or 'null' if only one: l\n",
      "Enter the number of the first image: 1200\n",
      "Enter the number of the last image or either the next rotation or 'null' if only one: l\n",
      "Enter the number of the first image: 1220\n",
      "Enter the number of the last image or either the next rotation or 'null' if only one: l\n",
      "Enter the number of the first image: 1284\n",
      "Enter the number of the last image or either the next rotation or 'null' if only one: f\n",
      "Enter the number of the first image: 1290\n",
      "Enter the number of the last image or either the next rotation or 'null' if only one: f\n",
      "Enter the number of the first image: 1294\n",
      "Enter the number of the last image or either the next rotation or 'null' if only one: f\n",
      "Enter the number of the first image: 1298\n",
      "Enter the number of the last image or either the next rotation or 'null' if only one: null\n",
      "Enter the rotation case (r, l, or f) or 'done' to change volumes: done\n",
      "Enter volume directory or 'end' to finish: end\n",
      "Now working on \\\\libshare.library.vanderbilt.edu\\vulibrary\\Landers\\new_organization\\Cuba_Colombia\\Archivo Historico Provincial de Matanzas\\Arquivo Mantanzas\\Esclavos\n",
      "Images 1003 through 1004 rotated left.\n",
      "2 total images rotated.\n",
      "Images 1020 through 1020 rotated left.\n",
      "1 total images rotated.\n",
      "Images 1024 through 1024 rotated left.\n",
      "1 total images rotated.\n",
      "Images 1028 through 1028 rotated left.\n",
      "1 total images rotated.\n",
      "Images 1031 through 1031 rotated left.\n",
      "1 total images rotated.\n",
      "Images 1034 through 1034 rotated left.\n",
      "1 total images rotated.\n",
      "Images 1046 through 1046 rotated left.\n",
      "1 total images rotated.\n",
      "Images 1053 through 1053 rotated left.\n",
      "1 total images rotated.\n",
      "Images 1068 through 1070 rotated left.\n",
      "3 total images rotated.\n",
      "Images 1073 through 1073 rotated left.\n",
      "1 total images rotated.\n",
      "Images 1076 through 1076 rotated left.\n",
      "1 total images rotated.\n",
      "Images 1085 through 1086 rotated left.\n",
      "2 total images rotated.\n",
      "Images 1092 through 1096 rotated left.\n",
      "5 total images rotated.\n",
      "Images 1099 through 1099 rotated left.\n",
      "1 total images rotated.\n",
      "Images 1102 through 1102 rotated left.\n",
      "1 total images rotated.\n",
      "Images 1111 through 1111 rotated left.\n",
      "1 total images rotated.\n",
      "Images 1115 through 1115 rotated left.\n",
      "1 total images rotated.\n",
      "Images 1119 through 1119 rotated left.\n",
      "1 total images rotated.\n",
      "Images 1126 through 1126 rotated left.\n",
      "1 total images rotated.\n",
      "Images 1141 through 1141 rotated left.\n",
      "1 total images rotated.\n",
      "Images 1143 through 1146 rotated left.\n",
      "4 total images rotated.\n",
      "Images 1150 through 1150 rotated left.\n",
      "1 total images rotated.\n",
      "Images 1162 through 1162 rotated left.\n",
      "1 total images rotated.\n",
      "Images 1169 through 1169 rotated left.\n",
      "1 total images rotated.\n",
      "Images 1182 through 1182 rotated left.\n",
      "1 total images rotated.\n",
      "Images 1200 through 1200 rotated left.\n",
      "1 total images rotated.\n",
      "Images 1220 through 1220 rotated left.\n",
      "1 total images rotated.\n",
      "Images 1284 through 1284 rotated left.\n",
      "1 total images rotated.\n",
      "Images 1290 through 1290 flipped.\n",
      "1 total images rotated.\n",
      "Images 1294 through 1294 flipped.\n",
      "1 total images rotated.\n",
      "Images 1298 through 1298 flipped.\n",
      "1 total images rotated.\n",
      "Rotation completed.\n"
     ]
    }
   ],
   "source": [
    "##### all-in-one image rotator (be careful, images will be rotated immediately)\n",
    "\n",
    "import os \n",
    "docName = input('Enter a name for the instruction file: ') \n",
    "os.chdir('C:\\\\Users\\\\genkindn\\\\Rotation Lists') \n",
    "writeDoc = open(docName + '.txt','w') \n",
    "needVol = True \n",
    "endWrite = False \n",
    "while not endWrite: \n",
    "    if needVol: \n",
    "        nextInst = input('Enter volume directory or \\'end\\' to finish: ') \n",
    "        if 'end' in nextInst: \n",
    "            writeDoc.close() \n",
    "            endWrite = True \n",
    "        elif os.path.isdir(nextInst): \n",
    "            writeDoc.write(nextInst + '\\n') \n",
    "            activeVol = nextInst \n",
    "            needVol = False \n",
    "            needExt = True \n",
    "        else: \n",
    "            print('Invalid input.') \n",
    "    elif needExt: \n",
    "        nextInst = input('Enter file extensions (case sensitive): ') \n",
    "        if ('jpg' in nextInst) or ('JPG' in nextInst) or ('tif' in nextInst): \n",
    "            ext = nextInst \n",
    "            needExt = False \n",
    "            needCase = True \n",
    "        else: \n",
    "            print('Invalid input.') \n",
    "    elif needCase: \n",
    "        nextInst = input('Enter the rotation case (r, l, or f) or \\'done\\' to change volumes: ') \n",
    "        if 'done' in nextInst: \n",
    "            needCase = False \n",
    "            needVol = True \n",
    "        elif (nextInst == 'r') or (nextInst == 'l') or (nextInst == 'f'): \n",
    "            writeDoc.write(nextInst + ':') \n",
    "            needCase = False \n",
    "            needStart = True \n",
    "        else: \n",
    "            print('Invalid input.') \n",
    "    elif needStart: \n",
    "        nextInst = input('Enter the number of the first image: ')\n",
    "        if os.path.isfile(activeVol + '\\\\' + nextInst + '.' + ext): \n",
    "            writeDoc.write(nextInst + '.' + ext + '-') \n",
    "            start = nextInst \n",
    "            needStart = False \n",
    "            needFinish = True \n",
    "        else: \n",
    "            print('Invalid input.')\n",
    "    elif needFinish: \n",
    "        nextInst = input('Enter the number of the last image or either the next rotation or \\'null\\' if only one: ') \n",
    "        if os.path.isfile(activeVol + '\\\\' + nextInst + '.' + ext): \n",
    "            writeDoc.write(nextInst + '.' + ext + '\\n') \n",
    "            needFinish = False \n",
    "            needCase = True \n",
    "        elif 'null' in nextInst: \n",
    "            writeDoc.write(start + '.' + ext + '\\n') \n",
    "            needFinish = False \n",
    "            needCase = True \n",
    "        elif (nextInst == 'r') or (nextInst == 'l') or (nextInst == 'f'): \n",
    "            writeDoc.write(start + '.' + ext + '\\n') \n",
    "            needFinish = False \n",
    "            writeDoc.write(nextInst + ':') \n",
    "            needStart = True \n",
    "        else: \n",
    "            print('Invalid input: ' + activeVol + '\\\\' + nextInst + '.' + ext.upper()) \n",
    "    else: \n",
    "            print('You broke it.') \n",
    "from PIL import Image \n",
    "rotText = open(docName + '.txt','r') \n",
    "for line in rotText: \n",
    "    if line.find('\\\\') != -1: \n",
    "        actDir = line[:len(line) - 1] \n",
    "        os.chdir(actDir) \n",
    "        print(\"Now working on \" + actDir) \n",
    "    elif (line.find('-') != -1) and (line.find('\\\\') == -1): \n",
    "        firPer = line.find('.') \n",
    "        stIm = line[line.find(':') + 1:firPer] \n",
    "        finIm = line[line.find('-') + 1:line.find('.',firPer + 1)] \n",
    "        ext = line[firPer:line.find('-')] \n",
    "        rotCase = line[0:1] \n",
    "        currIm = int(stIm) \n",
    "        imRot = 0 \n",
    "        while currIm <= int(finIm):\n",
    "            imDir = actDir + '\\\\' + str(currIm) + ext \n",
    "            imExists = os.path.isfile(imDir) \n",
    "            if imExists: \n",
    "                  rotIm = Image.open(imDir) \n",
    "            if (rotCase == 'r') and imExists: \n",
    "                width = rotIm.size[0] \n",
    "                height = rotIm.size[1] \n",
    "                if width > height: \n",
    "                    rotIm = rotIm.resize((width,width)) \n",
    "                elif height > width: \n",
    "                    rotIm = rotIm.resize((height,height)) \n",
    "                rotIm = rotIm.rotate(270) \n",
    "                rotIm = rotIm.resize((height,width)) \n",
    "                rotIm.save(imDir)\n",
    "                #print('Rotate right ' + imDir)\n",
    "                rotIm.close()\n",
    "                imRot += 1\n",
    "            elif (rotCase =='f') and imExists:                    \n",
    "                rotIm = rotIm.rotate(180)\n",
    "                rotIm.save(imDir)\n",
    "                #print('Flip ' + imDir)\n",
    "                rotIm.close()                \n",
    "                imRot += 1\n",
    "            elif (rotCase == 'l') and imExists:\n",
    "                width = rotIm.size[0]\n",
    "                height = rotIm.size[1]\n",
    "                if width > height:\n",
    "                    rotIm = rotIm.resize((width,width))\n",
    "                elif height > width:\n",
    "                    rotIm = rotIm.resize((height,height))\n",
    "                rotIm = rotIm.rotate(90)\n",
    "                rotIm = rotIm.resize((height,width))\n",
    "                rotIm.save(imDir)\n",
    "                #print('Rotate left ' + imDir)\n",
    "                rotIm.close()\n",
    "                imRot += 1\n",
    "            elif imExists:\n",
    "                print('Invalid rotCase at: ' + stIm)\n",
    "                rotIm.close()\n",
    "            currIm += 1\n",
    "        if rotCase == 'r':\n",
    "            print('Images ' + stIm + ' through ' + finIm + ' rotated right.')\n",
    "        elif rotCase == 'f':\n",
    "            print('Images ' + stIm + ' through ' + finIm + ' flipped.')\n",
    "        elif rotCase == 'l':\n",
    "            print('Images ' + stIm + ' through ' + finIm + ' rotated left.')\n",
    "        print(str(imRot) + ' total images rotated.')\n",
    "rotText.close() \n",
    "print('Rotation completed.')"
   ]
  },
  {
   "cell_type": "code",
   "execution_count": null,
   "metadata": {
    "collapsed": true
   },
   "outputs": [],
   "source": [
    "rotText.close(jpg)"
   ]
  },
  {
   "cell_type": "code",
   "execution_count": 1,
   "metadata": {},
   "outputs": [
    {
     "name": "stdout",
     "output_type": "stream",
     "text": [
      "4\n"
     ]
    }
   ],
   "source": [
    "print(2+2)"
   ]
  },
  {
   "cell_type": "code",
   "execution_count": 7,
   "metadata": {
    "collapsed": true
   },
   "outputs": [],
   "source": [
    "os.chdir('\\\\\\\\libshare.library.vanderbilt.edu\\\\vulibrary\\\\Landers\\\\new_organization\\\\Oscar')"
   ]
  },
  {
   "cell_type": "code",
   "execution_count": 1,
   "metadata": {},
   "outputs": [
    {
     "name": "stdout",
     "output_type": "stream",
     "text": [
      "Enter directory containing images that need to be rotated right: C:\\Users\\genkindn\\Downloads\\JPEG\\JPEG\n"
     ]
    },
    {
     "ename": "KeyboardInterrupt",
     "evalue": "",
     "output_type": "error",
     "traceback": [
      "\u001b[1;31m---------------------------------------------------------------------------\u001b[0m",
      "\u001b[1;31mKeyboardInterrupt\u001b[0m                         Traceback (most recent call last)",
      "\u001b[1;32m<ipython-input-1-ef3488f8f64e>\u001b[0m in \u001b[0;36m<module>\u001b[1;34m()\u001b[0m\n\u001b[0;32m     18\u001b[0m                 \u001b[0mbigtim\u001b[0m \u001b[1;33m=\u001b[0m \u001b[0mbigtim\u001b[0m\u001b[1;33m.\u001b[0m\u001b[0mrotate\u001b[0m\u001b[1;33m(\u001b[0m\u001b[1;36m270\u001b[0m\u001b[1;33m)\u001b[0m\u001b[1;33m\u001b[0m\u001b[0m\n\u001b[0;32m     19\u001b[0m                 \u001b[0mbigtim\u001b[0m \u001b[1;33m=\u001b[0m \u001b[0mbigtim\u001b[0m\u001b[1;33m.\u001b[0m\u001b[0mresize\u001b[0m\u001b[1;33m(\u001b[0m\u001b[1;33m(\u001b[0m\u001b[0mheight\u001b[0m\u001b[1;33m,\u001b[0m\u001b[0mwidth\u001b[0m\u001b[1;33m)\u001b[0m\u001b[1;33m)\u001b[0m\u001b[1;33m\u001b[0m\u001b[0m\n\u001b[1;32m---> 20\u001b[1;33m                 \u001b[0mbigtim\u001b[0m\u001b[1;33m.\u001b[0m\u001b[0msave\u001b[0m\u001b[1;33m(\u001b[0m\u001b[0mfolder\u001b[0m \u001b[1;33m+\u001b[0m \u001b[1;34m'\\\\'\u001b[0m \u001b[1;33m+\u001b[0m \u001b[0mfile\u001b[0m\u001b[1;33m)\u001b[0m\u001b[1;33m\u001b[0m\u001b[0m\n\u001b[0m\u001b[0;32m     21\u001b[0m                 \u001b[0mimagesRotated\u001b[0m \u001b[1;33m+=\u001b[0m \u001b[1;36m1\u001b[0m\u001b[1;33m\u001b[0m\u001b[0m\n\u001b[0;32m     22\u001b[0m                 \u001b[0mbigtim\u001b[0m\u001b[1;33m.\u001b[0m\u001b[0mclose\u001b[0m\u001b[1;33m(\u001b[0m\u001b[1;33m)\u001b[0m\u001b[1;33m\u001b[0m\u001b[0m\n",
      "\u001b[1;32m~\\AppData\\Local\\Continuum\\anaconda3\\lib\\site-packages\\PIL\\Image.py\u001b[0m in \u001b[0;36msave\u001b[1;34m(self, fp, format, **params)\u001b[0m\n\u001b[0;32m   1891\u001b[0m \u001b[1;33m\u001b[0m\u001b[0m\n\u001b[0;32m   1892\u001b[0m         \u001b[1;32mtry\u001b[0m\u001b[1;33m:\u001b[0m\u001b[1;33m\u001b[0m\u001b[0m\n\u001b[1;32m-> 1893\u001b[1;33m             \u001b[0msave_handler\u001b[0m\u001b[1;33m(\u001b[0m\u001b[0mself\u001b[0m\u001b[1;33m,\u001b[0m \u001b[0mfp\u001b[0m\u001b[1;33m,\u001b[0m \u001b[0mfilename\u001b[0m\u001b[1;33m)\u001b[0m\u001b[1;33m\u001b[0m\u001b[0m\n\u001b[0m\u001b[0;32m   1894\u001b[0m         \u001b[1;32mfinally\u001b[0m\u001b[1;33m:\u001b[0m\u001b[1;33m\u001b[0m\u001b[0m\n\u001b[0;32m   1895\u001b[0m             \u001b[1;31m# do what we can to clean up\u001b[0m\u001b[1;33m\u001b[0m\u001b[1;33m\u001b[0m\u001b[0m\n",
      "\u001b[1;32m~\\AppData\\Local\\Continuum\\anaconda3\\lib\\site-packages\\PIL\\JpegImagePlugin.py\u001b[0m in \u001b[0;36m_save\u001b[1;34m(im, fp, filename)\u001b[0m\n\u001b[0;32m    737\u001b[0m                   len(extra) + 1)\n\u001b[0;32m    738\u001b[0m \u001b[1;33m\u001b[0m\u001b[0m\n\u001b[1;32m--> 739\u001b[1;33m     \u001b[0mImageFile\u001b[0m\u001b[1;33m.\u001b[0m\u001b[0m_save\u001b[0m\u001b[1;33m(\u001b[0m\u001b[0mim\u001b[0m\u001b[1;33m,\u001b[0m \u001b[0mfp\u001b[0m\u001b[1;33m,\u001b[0m \u001b[1;33m[\u001b[0m\u001b[1;33m(\u001b[0m\u001b[1;34m\"jpeg\"\u001b[0m\u001b[1;33m,\u001b[0m \u001b[1;33m(\u001b[0m\u001b[1;36m0\u001b[0m\u001b[1;33m,\u001b[0m \u001b[1;36m0\u001b[0m\u001b[1;33m)\u001b[0m\u001b[1;33m+\u001b[0m\u001b[0mim\u001b[0m\u001b[1;33m.\u001b[0m\u001b[0msize\u001b[0m\u001b[1;33m,\u001b[0m \u001b[1;36m0\u001b[0m\u001b[1;33m,\u001b[0m \u001b[0mrawmode\u001b[0m\u001b[1;33m)\u001b[0m\u001b[1;33m]\u001b[0m\u001b[1;33m,\u001b[0m \u001b[0mbufsize\u001b[0m\u001b[1;33m)\u001b[0m\u001b[1;33m\u001b[0m\u001b[0m\n\u001b[0m\u001b[0;32m    740\u001b[0m \u001b[1;33m\u001b[0m\u001b[0m\n\u001b[0;32m    741\u001b[0m \u001b[1;33m\u001b[0m\u001b[0m\n",
      "\u001b[1;32m~\\AppData\\Local\\Continuum\\anaconda3\\lib\\site-packages\\PIL\\ImageFile.py\u001b[0m in \u001b[0;36m_save\u001b[1;34m(im, fp, tile, bufsize)\u001b[0m\n\u001b[0;32m    494\u001b[0m                 \u001b[0ml\u001b[0m\u001b[1;33m,\u001b[0m \u001b[0ms\u001b[0m \u001b[1;33m=\u001b[0m \u001b[0me\u001b[0m\u001b[1;33m.\u001b[0m\u001b[0mencode_to_pyfd\u001b[0m\u001b[1;33m(\u001b[0m\u001b[1;33m)\u001b[0m\u001b[1;33m\u001b[0m\u001b[0m\n\u001b[0;32m    495\u001b[0m             \u001b[1;32melse\u001b[0m\u001b[1;33m:\u001b[0m\u001b[1;33m\u001b[0m\u001b[0m\n\u001b[1;32m--> 496\u001b[1;33m                 \u001b[0ms\u001b[0m \u001b[1;33m=\u001b[0m \u001b[0me\u001b[0m\u001b[1;33m.\u001b[0m\u001b[0mencode_to_file\u001b[0m\u001b[1;33m(\u001b[0m\u001b[0mfh\u001b[0m\u001b[1;33m,\u001b[0m \u001b[0mbufsize\u001b[0m\u001b[1;33m)\u001b[0m\u001b[1;33m\u001b[0m\u001b[0m\n\u001b[0m\u001b[0;32m    497\u001b[0m             \u001b[1;32mif\u001b[0m \u001b[0ms\u001b[0m \u001b[1;33m<\u001b[0m \u001b[1;36m0\u001b[0m\u001b[1;33m:\u001b[0m\u001b[1;33m\u001b[0m\u001b[0m\n\u001b[0;32m    498\u001b[0m                 \u001b[1;32mraise\u001b[0m \u001b[0mIOError\u001b[0m\u001b[1;33m(\u001b[0m\u001b[1;34m\"encoder error %d when writing image file\"\u001b[0m \u001b[1;33m%\u001b[0m \u001b[0ms\u001b[0m\u001b[1;33m)\u001b[0m\u001b[1;33m\u001b[0m\u001b[0m\n",
      "\u001b[1;31mKeyboardInterrupt\u001b[0m: "
     ]
    }
   ],
   "source": [
    "#rotate all sideways images in directory 90 degrees to the right (clockwise)\n",
    "import os\n",
    "from PIL import Image\n",
    "\n",
    "direct = input('Enter directory containing images that need to be rotated right: ')\n",
    "\n",
    "imagesRotated = 0\n",
    "\n",
    "for folder,subList,fileList in os.walk(direct):    \n",
    "    for file in fileList:\n",
    "        if ('.tif' in file) or ('.JPG' in file) or ('.jpg' in file):                \n",
    "            tim = Image.open(folder + '\\\\' + file)\n",
    "            width = tim.size[0]\n",
    "            height = tim.size[1]\n",
    "            if width > height:\n",
    "                bigtim = tim.resize((width,width))\n",
    "                tim.close()\n",
    "                bigtim = bigtim.rotate(270)\n",
    "                bigtim = bigtim.resize((height,width))\n",
    "                bigtim.save(folder + '\\\\' + file)\n",
    "                imagesRotated += 1\n",
    "                bigtim.close()\n",
    "         \n",
    "print(\"Mission accomplished. Total images rotated: \" + str(imagesRotated))\n"
   ]
  },
  {
   "cell_type": "code",
   "execution_count": 3,
   "metadata": {},
   "outputs": [
    {
     "name": "stdout",
     "output_type": "stream",
     "text": [
      "Single volume [s] or multiple volumes [m]?m\n",
      "Enter directory of volumes:\\\\libshare.library.vanderbilt.edu\\vulibrary\\Landers\\new_organization\\ESSS CUBA\\ESSS Cuba 2004-05\\Buen Viaje\\Buen Viaje Bautismos PM\n",
      "Now working in \\\\libshare.library.vanderbilt.edu\\vulibrary\\Landers\\new_organization\\ESSS CUBA\\ESSS Cuba 2004-05\\Buen Viaje\\Buen Viaje Bautismos PM\\BV, Libro 6, Baut PM, 1755-1760\n",
      "Files numbered in \\\\libshare.library.vanderbilt.edu\\vulibrary\\Landers\\new_organization\\ESSS CUBA\\ESSS Cuba 2004-05\\Buen Viaje\\Buen Viaje Bautismos PM\\BV, Libro 6, Baut PM, 1755-1760\n",
      "Now working in \\\\libshare.library.vanderbilt.edu\\vulibrary\\Landers\\new_organization\\ESSS CUBA\\ESSS Cuba 2004-05\\Buen Viaje\\Buen Viaje Bautismos PM\\BV, Libro 24, Baut PM, 1803-1807\n",
      "Files numbered in \\\\libshare.library.vanderbilt.edu\\vulibrary\\Landers\\new_organization\\ESSS CUBA\\ESSS Cuba 2004-05\\Buen Viaje\\Buen Viaje Bautismos PM\\BV, Libro 24, Baut PM, 1803-1807\n",
      "Now working in \\\\libshare.library.vanderbilt.edu\\vulibrary\\Landers\\new_organization\\ESSS CUBA\\ESSS Cuba 2004-05\\Buen Viaje\\Buen Viaje Bautismos PM\\BV, Libro 2, Baut PM, 1721-1730\n",
      "Files numbered in \\\\libshare.library.vanderbilt.edu\\vulibrary\\Landers\\new_organization\\ESSS CUBA\\ESSS Cuba 2004-05\\Buen Viaje\\Buen Viaje Bautismos PM\\BV, Libro 2, Baut PM, 1721-1730\n",
      "Now working in \\\\libshare.library.vanderbilt.edu\\vulibrary\\Landers\\new_organization\\ESSS CUBA\\ESSS Cuba 2004-05\\Buen Viaje\\Buen Viaje Bautismos PM\\BV, Libro 8, Baut PM, 1765-1769\n",
      "Files numbered in \\\\libshare.library.vanderbilt.edu\\vulibrary\\Landers\\new_organization\\ESSS CUBA\\ESSS Cuba 2004-05\\Buen Viaje\\Buen Viaje Bautismos PM\\BV, Libro 8, Baut PM, 1765-1769\n",
      "Now working in \\\\libshare.library.vanderbilt.edu\\vulibrary\\Landers\\new_organization\\ESSS CUBA\\ESSS Cuba 2004-05\\Buen Viaje\\Buen Viaje Bautismos PM\\BV, Libro 4, Baut PM, 1741-1749\n",
      "Files numbered in \\\\libshare.library.vanderbilt.edu\\vulibrary\\Landers\\new_organization\\ESSS CUBA\\ESSS Cuba 2004-05\\Buen Viaje\\Buen Viaje Bautismos PM\\BV, Libro 4, Baut PM, 1741-1749\n",
      "Now working in \\\\libshare.library.vanderbilt.edu\\vulibrary\\Landers\\new_organization\\ESSS CUBA\\ESSS Cuba 2004-05\\Buen Viaje\\Buen Viaje Bautismos PM\\BV, Libro 7, Baut PM, 1760-1765\n"
     ]
    },
    {
     "ename": "PermissionError",
     "evalue": "[Errno 13] Permission denied: '\\\\\\\\libshare.library.vanderbilt.edu\\\\vulibrary\\\\Landers\\\\new_organization\\\\ESSS CUBA\\\\ESSS Cuba 2004-05\\\\Buen Viaje\\\\Buen Viaje Bautismos PM\\\\BV, Libro 7, Baut PM, 1760-1765\\\\DSCN6369.JPG'",
     "output_type": "error",
     "traceback": [
      "\u001b[1;31m---------------------------------------------------------------------------\u001b[0m",
      "\u001b[1;31mPermissionError\u001b[0m                           Traceback (most recent call last)",
      "\u001b[1;32m<ipython-input-3-4be0b2be5848>\u001b[0m in \u001b[0;36m<module>\u001b[1;34m()\u001b[0m\n\u001b[0;32m     41\u001b[0m     \u001b[1;32mfor\u001b[0m \u001b[0mfolder\u001b[0m\u001b[1;33m,\u001b[0m \u001b[0msub_folders\u001b[0m\u001b[1;33m,\u001b[0m \u001b[0mfiles\u001b[0m \u001b[1;32min\u001b[0m \u001b[0mos\u001b[0m\u001b[1;33m.\u001b[0m\u001b[0mwalk\u001b[0m\u001b[1;33m(\u001b[0m\u001b[0mvolume_directory\u001b[0m\u001b[1;33m)\u001b[0m\u001b[1;33m:\u001b[0m\u001b[1;33m\u001b[0m\u001b[0m\n\u001b[0;32m     42\u001b[0m         \u001b[1;32mif\u001b[0m \u001b[0mfiles\u001b[0m\u001b[1;33m:\u001b[0m\u001b[1;33m\u001b[0m\u001b[0m\n\u001b[1;32m---> 43\u001b[1;33m             \u001b[0mnumber_files\u001b[0m\u001b[1;33m(\u001b[0m\u001b[0mfolder\u001b[0m\u001b[1;33m)\u001b[0m\u001b[1;33m\u001b[0m\u001b[0m\n\u001b[0m",
      "\u001b[1;32m<ipython-input-3-4be0b2be5848>\u001b[0m in \u001b[0;36mnumber_files\u001b[1;34m(directory)\u001b[0m\n\u001b[0;32m     18\u001b[0m                 \u001b[0mim\u001b[0m \u001b[1;33m=\u001b[0m \u001b[0mImage\u001b[0m\u001b[1;33m.\u001b[0m\u001b[0mopen\u001b[0m\u001b[1;33m(\u001b[0m\u001b[0mimage_location\u001b[0m\u001b[1;33m)\u001b[0m\u001b[1;33m\u001b[0m\u001b[0m\n\u001b[0;32m     19\u001b[0m                 \u001b[0mstripped\u001b[0m \u001b[1;33m=\u001b[0m \u001b[0mim\u001b[0m\u001b[1;33m.\u001b[0m\u001b[0mrotate\u001b[0m\u001b[1;33m(\u001b[0m\u001b[1;36m0\u001b[0m\u001b[1;33m)\u001b[0m\u001b[1;33m\u001b[0m\u001b[0m\n\u001b[1;32m---> 20\u001b[1;33m                 \u001b[0mstripped\u001b[0m\u001b[1;33m.\u001b[0m\u001b[0msave\u001b[0m\u001b[1;33m(\u001b[0m\u001b[0mimage_location\u001b[0m\u001b[1;33m)\u001b[0m\u001b[1;33m\u001b[0m\u001b[0m\n\u001b[0m\u001b[0;32m     21\u001b[0m                 \u001b[0mim\u001b[0m\u001b[1;33m.\u001b[0m\u001b[0mclose\u001b[0m\u001b[1;33m(\u001b[0m\u001b[1;33m)\u001b[0m\u001b[1;33m\u001b[0m\u001b[0m\n\u001b[0;32m     22\u001b[0m                 \u001b[0mstripped\u001b[0m\u001b[1;33m.\u001b[0m\u001b[0mclose\u001b[0m\u001b[1;33m(\u001b[0m\u001b[1;33m)\u001b[0m\u001b[1;33m\u001b[0m\u001b[0m\n",
      "\u001b[1;32m~\\AppData\\Local\\Continuum\\anaconda3\\lib\\site-packages\\PIL\\Image.py\u001b[0m in \u001b[0;36msave\u001b[1;34m(self, fp, format, **params)\u001b[0m\n\u001b[0;32m   1888\u001b[0m             \u001b[1;31m# Open also for reading (\"+\"), because TIFF save_all\u001b[0m\u001b[1;33m\u001b[0m\u001b[1;33m\u001b[0m\u001b[0m\n\u001b[0;32m   1889\u001b[0m             \u001b[1;31m# writer needs to go back and edit the written data.\u001b[0m\u001b[1;33m\u001b[0m\u001b[1;33m\u001b[0m\u001b[0m\n\u001b[1;32m-> 1890\u001b[1;33m             \u001b[0mfp\u001b[0m \u001b[1;33m=\u001b[0m \u001b[0mbuiltins\u001b[0m\u001b[1;33m.\u001b[0m\u001b[0mopen\u001b[0m\u001b[1;33m(\u001b[0m\u001b[0mfilename\u001b[0m\u001b[1;33m,\u001b[0m \u001b[1;34m\"w+b\"\u001b[0m\u001b[1;33m)\u001b[0m\u001b[1;33m\u001b[0m\u001b[0m\n\u001b[0m\u001b[0;32m   1891\u001b[0m \u001b[1;33m\u001b[0m\u001b[0m\n\u001b[0;32m   1892\u001b[0m         \u001b[1;32mtry\u001b[0m\u001b[1;33m:\u001b[0m\u001b[1;33m\u001b[0m\u001b[0m\n",
      "\u001b[1;31mPermissionError\u001b[0m: [Errno 13] Permission denied: '\\\\\\\\libshare.library.vanderbilt.edu\\\\vulibrary\\\\Landers\\\\new_organization\\\\ESSS CUBA\\\\ESSS Cuba 2004-05\\\\Buen Viaje\\\\Buen Viaje Bautismos PM\\\\BV, Libro 7, Baut PM, 1760-1765\\\\DSCN6369.JPG'"
     ]
    }
   ],
   "source": [
    "#strip metadata and convert image file names to sequential integers beginning with 1001 \n",
    "#initial file names must be properly sortable\n",
    "#no volumes can already be numbered if using a multi-volume directory\n",
    "\n",
    "import os\n",
    "from PIL import Image, ImageFile\n",
    "ImageFile.LOAD_TRUNCATED_IMAGES = True\n",
    "\n",
    "def number_files(directory):\n",
    "    page = 1001\n",
    "    for folder, sub_folders, files in os.walk(directory):\n",
    "        print('Now working in ' + folder)\n",
    "        files.sort()\n",
    "        for file in files:\n",
    "            name, extension = file.split('.')\n",
    "            if (file != str(page) + '.' + extension) and (('tif' in file) or ('JPG' in file) or ('jpg' in file)):                \n",
    "                image_location = folder + '\\\\' + file\n",
    "                im = Image.open(image_location)\n",
    "                stripped = im.rotate(0)                \n",
    "                stripped.save(image_location)\n",
    "                im.close()\n",
    "                stripped.close()                \n",
    "                os.rename(folder + '\\\\' + file, folder + '\\\\' + str(page) + '.' + extension)\n",
    "                page += 1\n",
    "            elif ('Thumbs.db' in file) or ('DS_Store' in file) or ('bs.db' in file):\n",
    "                os.unlink(folder + '\\\\' + file)\n",
    "                print(folder + '\\\\' + file + ' deleted!')\n",
    "    print('Files numbered in ' + directory)\n",
    "\n",
    "mode = input('Single volume [s] or multiple volumes [m]?')\n",
    "\n",
    "while (mode != 's') and (mode != 'm'):\n",
    "    print('Invalid selection.')\n",
    "    mode = input('Single volume [s] or multiple volumes [m]?')\n",
    "    \n",
    "if (mode == 's'):\n",
    "    volume_directory = input('Enter volume directory:')\n",
    "    number_files(volume_directory)    \n",
    "else:\n",
    "    volume_directory = input('Enter directory of volumes:')\n",
    "    for folder, sub_folders, files in os.walk(volume_directory):\n",
    "        if files:\n",
    "            number_files(folder)    "
   ]
  },
  {
   "cell_type": "code",
   "execution_count": null,
   "metadata": {
    "collapsed": true
   },
   "outputs": [],
   "source": []
  }
 ],
 "metadata": {
  "kernelspec": {
   "display_name": "Python 3",
   "language": "python",
   "name": "python3"
  },
  "language_info": {
   "codemirror_mode": {
    "name": "ipython",
    "version": 3
   },
   "file_extension": ".py",
   "mimetype": "text/x-python",
   "name": "python",
   "nbconvert_exporter": "python",
   "pygments_lexer": "ipython3",
   "version": "3.6.3"
  }
 },
 "nbformat": 4,
 "nbformat_minor": 2
}
